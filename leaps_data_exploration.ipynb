{
 "cells": [
  {
   "cell_type": "markdown",
   "metadata": {},
   "source": [
    "# LEAPS Data Exploration\n",
    "\n",
    "The LEAPS data is a collection of complete programs in the LEAPS Karel DSL for controlling an agent in the Karel environment.\n",
    "My goal is to explore how the programs in the dataset perform on the Karel tasks to serve as a baseline dataset. This\n",
    "will be compared against the dataset being generated using a random policy for the Karel tasks."
   ]
  },
  {
   "cell_type": "markdown",
   "metadata": {},
   "source": [
    "## Produce dataset\n",
    "\n",
    "Produce a CSV file containing a list of all programs in the LEAPS dataset along with their rewards on each of the Karel tasks. This is a simpler approximation\n",
    "of the LEAPS dataset and will be used to generate the offline training data\n",
    "for the decision transformer."
   ]
  },
  {
   "cell_type": "code",
   "execution_count": 1,
   "metadata": {},
   "outputs": [],
   "source": [
    "import sys\n",
    "import os\n",
    "import h5py\n",
    "\n",
    "from test_karel import get_reward\n",
    "\n",
    "sys.path.insert(0, '.')\n",
    "\n",
    "from prl_gym.exec_env import ExecEnv2\n",
    "from pretrain.get_karel_config import get_karel_task_config\n",
    "\n",
    "datadir = os.path.join('data', 'karel_dataset')\n",
    "hdf5_file = h5py.File(os.path.join(datadir, 'data.hdf5'), 'r')\n",
    "with open(os.path.join(datadir, 'id.txt'), 'r') as id_file:\n",
    "    id_list = id_file.readlines()\n",
    "id_list = [id.strip() for id in id_list]\n",
    "\n",
    "LIMIT = None"
   ]
  },
  {
   "cell_type": "markdown",
   "metadata": {},
   "source": [
    "Read the ID list and obtain every corresponding program string\n",
    "\n",
    "_Note: takes ~35s to execute_"
   ]
  },
  {
   "cell_type": "code",
   "execution_count": 3,
   "metadata": {},
   "outputs": [],
   "source": [
    "dummy = ExecEnv2(get_karel_task_config('topOff', 0)['args'])\n",
    "\n",
    "prog_list = []\n",
    "prog_lens = []\n",
    "for prog_id in id_list[:LIMIT]:\n",
    "    prog_seq = hdf5_file[prog_id]['program'][()]\n",
    "    prog_len = int(prog_id.split('_')[4])\n",
    "    prog_str = dummy.dsl.intseq2str(prog_seq)\n",
    "\n",
    "    prog_list.append(prog_str)\n",
    "    prog_lens.append(prog_len)"
   ]
  },
  {
   "cell_type": "markdown",
   "metadata": {},
   "source": [
    "For each task, create an environment, and for all programs, find their reward in the environment.\n",
    "\n",
    "_Note: takes ~110 minutes to execute_"
   ]
  },
  {
   "cell_type": "code",
   "execution_count": 4,
   "metadata": {},
   "outputs": [],
   "source": [
    "from concurrent.futures import ProcessPoolExecutor\n",
    "\n",
    "tasks = ['cleanHouse', 'harvester', 'fourCorners', 'randomMaze', 'stairClimber', 'topOff']\n",
    "seed = 75092\n",
    "\n",
    "def find_task_rewards(task):\n",
    "    rewards = []\n",
    "    for prog in prog_list[:LIMIT]:\n",
    "        reward = get_reward(prog, seed, task)\n",
    "        rewards.append(reward) \n",
    "    return rewards\n",
    "\n",
    "num_processes = len(tasks)\n",
    "\n",
    "with ProcessPoolExecutor(max_workers=num_processes) as executor:\n",
    "    futures = [executor.submit(find_task_rewards, task) for task in tasks]\n",
    "    results = [future.result() for future in futures]\n",
    "    rewards = {task: rewards for (task, rewards) in zip(tasks, results)}"
   ]
  },
  {
   "cell_type": "code",
   "execution_count": 5,
   "metadata": {},
   "outputs": [
    {
     "name": "stdout",
     "output_type": "stream",
     "text": [
      "50000 50000\n",
      "[50000, 50000, 50000, 50000, 50000, 50000]\n"
     ]
    }
   ],
   "source": [
    "print(len(prog_list), len(prog_lens))\n",
    "print([len(rewards[task]) for task in tasks])"
   ]
  },
  {
   "cell_type": "markdown",
   "metadata": {},
   "source": [
    "Assemble the dataframe"
   ]
  },
  {
   "cell_type": "code",
   "execution_count": 6,
   "metadata": {},
   "outputs": [],
   "source": [
    "import pandas as pd\n",
    "\n",
    "df = pd.DataFrame({\n",
    "    'program': prog_list,\n",
    "    'prog_len': prog_lens,\n",
    "    **{f'{task}_reward': rewards[task] for task in tasks}\n",
    "})\n",
    "\n",
    "df.to_csv('leaps_data.csv', index_label='indices')"
   ]
  },
  {
   "cell_type": "markdown",
   "metadata": {},
   "source": [
    "## Data Exploration"
   ]
  },
  {
   "cell_type": "code",
   "execution_count": 3,
   "metadata": {},
   "outputs": [],
   "source": [
    "import pandas as pd\n",
    "\n",
    "df = pd.read_csv('leaps_data.csv')"
   ]
  },
  {
   "cell_type": "code",
   "execution_count": 4,
   "metadata": {},
   "outputs": [
    {
     "data": {
      "text/html": [
       "<div>\n",
       "<style scoped>\n",
       "    .dataframe tbody tr th:only-of-type {\n",
       "        vertical-align: middle;\n",
       "    }\n",
       "\n",
       "    .dataframe tbody tr th {\n",
       "        vertical-align: top;\n",
       "    }\n",
       "\n",
       "    .dataframe thead th {\n",
       "        text-align: right;\n",
       "    }\n",
       "</style>\n",
       "<table border=\"1\" class=\"dataframe\">\n",
       "  <thead>\n",
       "    <tr style=\"text-align: right;\">\n",
       "      <th></th>\n",
       "      <th>indices</th>\n",
       "      <th>prog_len</th>\n",
       "      <th>cleanHouse_reward</th>\n",
       "      <th>harvester_reward</th>\n",
       "      <th>fourCorners_reward</th>\n",
       "      <th>randomMaze_reward</th>\n",
       "      <th>stairClimber_reward</th>\n",
       "      <th>topOff_reward</th>\n",
       "    </tr>\n",
       "  </thead>\n",
       "  <tbody>\n",
       "    <tr>\n",
       "      <th>count</th>\n",
       "      <td>50000.000000</td>\n",
       "      <td>50000.000000</td>\n",
       "      <td>50000.000000</td>\n",
       "      <td>50000.000000</td>\n",
       "      <td>50000.000000</td>\n",
       "      <td>50000.000000</td>\n",
       "      <td>50000.000000</td>\n",
       "      <td>50000.000000</td>\n",
       "    </tr>\n",
       "    <tr>\n",
       "      <th>mean</th>\n",
       "      <td>24999.500000</td>\n",
       "      <td>19.912100</td>\n",
       "      <td>0.100019</td>\n",
       "      <td>0.083420</td>\n",
       "      <td>0.103543</td>\n",
       "      <td>0.169628</td>\n",
       "      <td>0.101846</td>\n",
       "      <td>0.201782</td>\n",
       "    </tr>\n",
       "    <tr>\n",
       "      <th>std</th>\n",
       "      <td>14433.901067</td>\n",
       "      <td>6.362772</td>\n",
       "      <td>0.002899</td>\n",
       "      <td>0.071921</td>\n",
       "      <td>0.029986</td>\n",
       "      <td>0.080783</td>\n",
       "      <td>0.029741</td>\n",
       "      <td>0.066617</td>\n",
       "    </tr>\n",
       "    <tr>\n",
       "      <th>min</th>\n",
       "      <td>0.000000</td>\n",
       "      <td>7.000000</td>\n",
       "      <td>0.010000</td>\n",
       "      <td>-1.261111</td>\n",
       "      <td>0.010000</td>\n",
       "      <td>0.010000</td>\n",
       "      <td>0.010000</td>\n",
       "      <td>0.010000</td>\n",
       "    </tr>\n",
       "    <tr>\n",
       "      <th>25%</th>\n",
       "      <td>12499.750000</td>\n",
       "      <td>15.000000</td>\n",
       "      <td>0.100000</td>\n",
       "      <td>0.072222</td>\n",
       "      <td>0.100000</td>\n",
       "      <td>0.100000</td>\n",
       "      <td>0.100000</td>\n",
       "      <td>0.181818</td>\n",
       "    </tr>\n",
       "    <tr>\n",
       "      <th>50%</th>\n",
       "      <td>24999.500000</td>\n",
       "      <td>19.000000</td>\n",
       "      <td>0.100000</td>\n",
       "      <td>0.100000</td>\n",
       "      <td>0.100000</td>\n",
       "      <td>0.200000</td>\n",
       "      <td>0.100000</td>\n",
       "      <td>0.181818</td>\n",
       "    </tr>\n",
       "    <tr>\n",
       "      <th>75%</th>\n",
       "      <td>37499.250000</td>\n",
       "      <td>24.000000</td>\n",
       "      <td>0.100000</td>\n",
       "      <td>0.100000</td>\n",
       "      <td>0.100000</td>\n",
       "      <td>0.200000</td>\n",
       "      <td>0.100000</td>\n",
       "      <td>0.263636</td>\n",
       "    </tr>\n",
       "    <tr>\n",
       "      <th>max</th>\n",
       "      <td>49999.000000</td>\n",
       "      <td>50.000000</td>\n",
       "      <td>0.240000</td>\n",
       "      <td>0.405556</td>\n",
       "      <td>1.100000</td>\n",
       "      <td>1.100000</td>\n",
       "      <td>1.100000</td>\n",
       "      <td>0.572727</td>\n",
       "    </tr>\n",
       "  </tbody>\n",
       "</table>\n",
       "</div>"
      ],
      "text/plain": [
       "            indices      prog_len  cleanHouse_reward  harvester_reward  \\\n",
       "count  50000.000000  50000.000000       50000.000000      50000.000000   \n",
       "mean   24999.500000     19.912100           0.100019          0.083420   \n",
       "std    14433.901067      6.362772           0.002899          0.071921   \n",
       "min        0.000000      7.000000           0.010000         -1.261111   \n",
       "25%    12499.750000     15.000000           0.100000          0.072222   \n",
       "50%    24999.500000     19.000000           0.100000          0.100000   \n",
       "75%    37499.250000     24.000000           0.100000          0.100000   \n",
       "max    49999.000000     50.000000           0.240000          0.405556   \n",
       "\n",
       "       fourCorners_reward  randomMaze_reward  stairClimber_reward  \\\n",
       "count        50000.000000       50000.000000         50000.000000   \n",
       "mean             0.103543           0.169628             0.101846   \n",
       "std              0.029986           0.080783             0.029741   \n",
       "min              0.010000           0.010000             0.010000   \n",
       "25%              0.100000           0.100000             0.100000   \n",
       "50%              0.100000           0.200000             0.100000   \n",
       "75%              0.100000           0.200000             0.100000   \n",
       "max              1.100000           1.100000             1.100000   \n",
       "\n",
       "       topOff_reward  \n",
       "count   50000.000000  \n",
       "mean        0.201782  \n",
       "std         0.066617  \n",
       "min         0.010000  \n",
       "25%         0.181818  \n",
       "50%         0.181818  \n",
       "75%         0.263636  \n",
       "max         0.572727  "
      ]
     },
     "execution_count": 4,
     "metadata": {},
     "output_type": "execute_result"
    }
   ],
   "source": [
    "df.describe()"
   ]
  },
  {
   "cell_type": "code",
   "execution_count": 9,
   "metadata": {},
   "outputs": [
    {
     "data": {
      "image/png": "[encoded data removed]",
      "text/plain": [
       "<Figure size 800x1000 with 6 Axes>"
      ]
     },
     "metadata": {},
     "output_type": "display_data"
    }
   ],
   "source": [
    "import matplotlib.pyplot as plt\n",
    "\n",
    "plt.rcParams['font.family'] = 'serif'\n",
    "\n",
    "num_bins = 100\n",
    "\n",
    "# Create a figure and arrange subplots\n",
    "fig, axes = plt.subplots(nrows=3, ncols=2, figsize=(8, 10))\n",
    "\n",
    "# Plot the distributions in each subplot\n",
    "axes[0, 0].hist(df.cleanHouse_reward, bins=num_bins, range=(df.cleanHouse_reward.min(), 1.1), color='blue', alpha=0.7)\n",
    "axes[0, 0].set_title('cleanHouse')\n",
    "axes[0, 0].set_xlabel('Return')\n",
    "axes[0, 0].set_ylabel('No. of programs')\n",
    "\n",
    "axes[0, 1].hist(df.harvester_reward, bins=num_bins, range=(df.harvester_reward.min(), 1.1), color='orange', alpha=0.7)\n",
    "axes[0, 1].set_title('harvester')\n",
    "axes[0, 1].set_xlabel('Return')\n",
    "axes[0, 1].set_ylabel('No. of programs')\n",
    "\n",
    "axes[1, 0].hist(df.fourCorners_reward, bins=num_bins, range=(df.fourCorners_reward.min(), 1.1), color='green', alpha=0.7)\n",
    "axes[1, 0].set_title('fourCorners')\n",
    "axes[1, 0].set_xlabel('Return')\n",
    "axes[1, 0].set_ylabel('No. of programs')\n",
    "\n",
    "axes[1, 1].hist(df.randomMaze_reward, bins=num_bins, range=(df.randomMaze_reward.min(), 1.1), color='red', alpha=0.7)\n",
    "axes[1, 1].set_title('randomMaze')\n",
    "axes[1, 1].set_xlabel('Return')\n",
    "axes[1, 1].set_ylabel('No. of programs')\n",
    "\n",
    "axes[2, 0].hist(df.stairClimber_reward, bins=num_bins, range=(df.stairClimber_reward.min(), 1.1), color='purple', alpha=0.7)\n",
    "axes[2, 0].set_title('stairClimber')\n",
    "axes[2, 0].set_xlabel('Return')\n",
    "axes[2, 0].set_ylabel('No. of programs')\n",
    "\n",
    "axes[2, 1].hist(df.topOff_reward, bins=num_bins, range=(df.topOff_reward.min(), 1.1), color='brown', alpha=0.7)\n",
    "axes[2, 1].set_title('topOff')\n",
    "axes[2, 1].set_xlabel('Return')\n",
    "axes[2, 1].set_ylabel('No. of programs')\n",
    "\n",
    "# Adjust layout to prevent overlap\n",
    "plt.tight_layout()\n",
    "\n",
    "# Save as SVG\n",
    "plt.savefig('leaps_data.pdf', format='pdf', dpi=300)\n",
    "\n",
    "# Show the plot\n",
    "plt.show()"
   ]
  },
  {
   "cell_type": "code",
   "execution_count": null,
   "metadata": {},
   "outputs": [],
   "source": [
    "anomalous = df[df.filter(like='_reward').apply(lambda col: (col < 0) | (col > 1)).any(axis=1)]\n",
    "print(anomalous)\n",
    "\n",
    "anomalous.to_csv('anomalous.csv')"
   ]
  },
  {
   "cell_type": "code",
   "execution_count": 12,
   "metadata": {},
   "outputs": [
    {
     "data": {
      "text/plain": [
       "'DEF run m( putMarker move turnLeft WHILE c( rightIsClear c) w( putMarker move w) m)'"
      ]
     },
     "execution_count": 12,
     "metadata": {},
     "output_type": "execute_result"
    }
   ],
   "source": [
    "tasks = ['cleanHouse', 'harvester', 'fourCorners', 'randomMaze', 'stairClimber', 'topOff']\n",
    "df[df['harvester_reward'] == df['harvester_reward'].min()].program.values[0]"
   ]
  },
  {
   "cell_type": "code",
   "execution_count": 14,
   "metadata": {},
   "outputs": [
    {
     "name": "stdout",
     "output_type": "stream",
     "text": [
      "0, DEF\n",
      "1, run\n",
      "2, m(\n",
      "3, IFELSE\n",
      "4, c(\n",
      "5, rightIsClear\n",
      "6, c)\n",
      "7, i(\n",
      "8, IF\n",
      "9, c(\n",
      "10, not\n",
      "11, c(\n",
      "12, markersPresent\n",
      "13, c)\n",
      "14, c)\n",
      "15, i(\n",
      "16, turnRight\n",
      "17, i)\n",
      "18, WHILE\n",
      "19, c(\n",
      "20, frontIsClear\n",
      "21, c)\n",
      "22, w(\n",
      "23, turnRight\n",
      "24, w)\n",
      "25, i)\n",
      "26, ELSE\n",
      "27, e(\n",
      "28, IF\n",
      "29, c(\n",
      "30, markersPresent\n",
      "31, c)\n",
      "32, i(\n",
      "33, IFELSE\n",
      "34, c(\n",
      "35, not\n",
      "36, c(\n",
      "37, frontIsClear\n",
      "38, c)\n",
      "39, c)\n",
      "40, i(\n",
      "41, move\n",
      "42, i)\n",
      "43, ELSE\n",
      "44, e(\n",
      "45, putMarker\n",
      "46, e)\n",
      "47, i)\n",
      "48, e)\n",
      "49, m)\n"
     ]
    }
   ],
   "source": [
    "max_len = df[df['prog_len'] == df['prog_len'].max()].program.values[0]\n",
    "print('\\n'.join([f'{idx}, {token}' for idx, token in enumerate(max_len.split())]))"
   ]
  },
  {
   "cell_type": "code",
   "execution_count": 15,
   "metadata": {},
   "outputs": [
    {
     "name": "stdout",
     "output_type": "stream",
     "text": [
      "Counter({0.1000000014901161: 49444, 0.3499999940395355: 538, 0.0099999997764825: 17, 1.100000023841858: 1})\n"
     ]
    }
   ],
   "source": [
    "from collections import Counter\n",
    "print(Counter(df['fourCorners_reward']))"
   ]
  }
 ],
 "metadata": {
  "kernelspec": {
   "display_name": "decision-transformer-microrts",
   "language": "python",
   "name": "python3"
  },
  "language_info": {
   "codemirror_mode": {
    "name": "ipython",
    "version": 3
   },
   "file_extension": ".py",
   "mimetype": "text/x-python",
   "name": "python",
   "nbconvert_exporter": "python",
   "pygments_lexer": "ipython3",
   "version": "3.11.7"
  },
  "orig_nbformat": 4
 },
 "nbformat": 4,
 "nbformat_minor": 2
}
